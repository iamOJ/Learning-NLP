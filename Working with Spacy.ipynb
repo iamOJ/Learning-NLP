{
 "cells": [
  {
   "cell_type": "markdown",
   "metadata": {},
   "source": [
    "# Learning NLP with spaCy"
   ]
  },
  {
   "cell_type": "code",
   "execution_count": 4,
   "metadata": {},
   "outputs": [],
   "source": [
    "# Set up spaCy\n",
    "from spacy.lang.en import English\n",
    "parser = English()\n",
    "\n",
    "# Test Data\n",
    "multiSentence = \"There is an art, it says, or rather, a knack to flying.\" \\\n",
    "                 \"The knack lies in learning how to throw yourself at the ground and miss.\" \\\n",
    "                 \"In the beginning the Universe was created. This has made a lot of people \"\\\n",
    "                 \"very angry and been widely regarded as a bad move.\""
   ]
  },
  {
   "cell_type": "markdown",
   "metadata": {},
   "source": [
    "## Tokenization\n",
    "### Iterating through Tokens\n",
    "Each token is an object with lots of different properties\n",
    "A property with an underscore at the end returns the string representation while a property without the underscore returns an index (int) into spaCy's vocabulary\n",
    "The probability estimate is based on counts from a 3 billion word corpus, smoothed using the Simple Good-Turing method."
   ]
  },
  {
   "cell_type": "code",
   "execution_count": 8,
   "metadata": {},
   "outputs": [
    {
     "name": "stdout",
     "output_type": "stream",
     "text": [
      "0 There\n",
      "original: 6090035477591592277 There\n",
      "lowercased: 2112642640949226496 there\n",
      "lemma: 6090035477591592277 There\n",
      "shape: 16072095006890171862 Xxxxx\n",
      "prefix: 5582244037879929967 T\n",
      "suffix: 18139757808136603089 ere\n",
      "log probability: -20.0\n",
      "Brown cluster id: 0\n",
      "----------------------------------------\n",
      "1 is\n",
      "original: 3411606890003347522 is\n",
      "lowercased: 3411606890003347522 is\n",
      "lemma: 10382539506755952630 be\n",
      "shape: 4370460163704169311 xx\n",
      "prefix: 5097672513440128799 i\n",
      "suffix: 3411606890003347522 is\n",
      "log probability: -20.0\n",
      "Brown cluster id: 0\n",
      "----------------------------------------\n",
      "2 an\n",
      "original: 15099054000809333061 an\n",
      "lowercased: 15099054000809333061 an\n",
      "lemma: 11901859001352538922 a\n",
      "shape: 4370460163704169311 xx\n",
      "prefix: 11901859001352538922 a\n",
      "suffix: 15099054000809333061 an\n",
      "log probability: -20.0\n",
      "Brown cluster id: 0\n",
      "----------------------------------------\n"
     ]
    }
   ],
   "source": [
    "parsedData = parser(multiSentence)\n",
    "for i, token in enumerate(parsedData):\n",
    "    print(i,token)\n",
    "    print(\"original:\", token.orth, token.orth_)\n",
    "    print(\"lowercased:\", token.lower, token.lower_)\n",
    "    print(\"lemma:\", token.lemma, token.lemma_)\n",
    "    print(\"shape:\", token.shape, token.shape_)\n",
    "    print(\"prefix:\", token.prefix, token.prefix_)\n",
    "    print(\"suffix:\", token.suffix, token.suffix_)\n",
    "    print(\"log probability:\", token.prob)\n",
    "    print(\"Brown cluster id:\", token.cluster)\n",
    "    print(\"----------------------------------------\")\n",
    "    if i > 1:\n",
    "        break"
   ]
  }
 ],
 "metadata": {
  "kernelspec": {
   "display_name": "Python 3",
   "language": "python",
   "name": "python3"
  },
  "language_info": {
   "codemirror_mode": {
    "name": "ipython",
    "version": 3
   },
   "file_extension": ".py",
   "mimetype": "text/x-python",
   "name": "python",
   "nbconvert_exporter": "python",
   "pygments_lexer": "ipython3",
   "version": "3.5.5"
  }
 },
 "nbformat": 4,
 "nbformat_minor": 2
}
