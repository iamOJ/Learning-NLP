{
 "cells": [
  {
   "cell_type": "markdown",
   "metadata": {},
   "source": [
    "# Learning NLP with spaCy"
   ]
  },
  {
   "cell_type": "code",
   "execution_count": 16,
   "metadata": {},
   "outputs": [],
   "source": [
    "# Set up spaCy\n",
    "import spacy\n",
    "nlp = spacy.load('en')\n",
    "\n",
    "# Test Data\n",
    "multiSentence = \"There is an art, it says, or rather, a knack to flying.\" \\\n",
    "                 \"The knack lies in learning how to throw yourself at the ground and miss.\" \\\n",
    "                 \"In the beginning the Universe was created. This has made a lot of people \"\\\n",
    "                 \"very angry and been widely regarded as a bad move.\""
   ]
  },
  {
   "cell_type": "markdown",
   "metadata": {},
   "source": [
    "## Tokenization\n",
    "### Iterating through Tokens\n",
    "Each token is an object with lots of different properties\n",
    "A property with an underscore at the end returns the string representation while a property without the underscore returns an index (int) into spaCy's vocabulary\n",
    "The probability estimate is based on counts from a 3 billion word corpus, smoothed using the Simple Good-Turing method."
   ]
  },
  {
   "cell_type": "code",
   "execution_count": 17,
   "metadata": {},
   "outputs": [
    {
     "name": "stdout",
     "output_type": "stream",
     "text": [
      "0 There\n",
      "original: 6090035477591592277 There\n",
      "lowercased: 2112642640949226496 there\n",
      "lemma: 2112642640949226496 there\n",
      "shape: 16072095006890171862 Xxxxx\n",
      "prefix: 5582244037879929967 T\n",
      "suffix: 18139757808136603089 ere\n",
      "log probability: -20.0\n",
      "Brown cluster id: 0\n",
      "----------------------------------------\n",
      "1 is\n",
      "original: 3411606890003347522 is\n",
      "lowercased: 3411606890003347522 is\n",
      "lemma: 10382539506755952630 be\n",
      "shape: 4370460163704169311 xx\n",
      "prefix: 5097672513440128799 i\n",
      "suffix: 3411606890003347522 is\n",
      "log probability: -20.0\n",
      "Brown cluster id: 0\n",
      "----------------------------------------\n",
      "2 an\n",
      "original: 15099054000809333061 an\n",
      "lowercased: 15099054000809333061 an\n",
      "lemma: 15099054000809333061 an\n",
      "shape: 4370460163704169311 xx\n",
      "prefix: 11901859001352538922 a\n",
      "suffix: 15099054000809333061 an\n",
      "log probability: -20.0\n",
      "Brown cluster id: 0\n",
      "----------------------------------------\n"
     ]
    }
   ],
   "source": [
    "parsedData = nlp(multiSentence)\n",
    "for i, token in enumerate(parsedData):\n",
    "    print(i,token)\n",
    "    print(\"original:\", token.orth, token.orth_)\n",
    "    print(\"lowercased:\", token.lower, token.lower_)\n",
    "    print(\"lemma:\", token.lemma, token.lemma_)\n",
    "    print(\"shape:\", token.shape, token.shape_)\n",
    "    print(\"prefix:\", token.prefix, token.prefix_)\n",
    "    print(\"suffix:\", token.suffix, token.suffix_)\n",
    "    print(\"log probability:\", token.prob)\n",
    "    print(\"Brown cluster id:\", token.cluster)\n",
    "    print(\"----------------------------------------\")\n",
    "    if i > 1:\n",
    "        break"
   ]
  },
  {
   "cell_type": "code",
   "execution_count": 18,
   "metadata": {},
   "outputs": [
    {
     "data": {
      "text/plain": [
       "[('tagger', <spacy.pipeline.Tagger at 0x11b751358>),\n",
       " ('parser', <spacy.pipeline.DependencyParser at 0x11b758af0>),\n",
       " ('ner', <spacy.pipeline.EntityRecognizer at 0x11b758e60>)]"
      ]
     },
     "execution_count": 18,
     "metadata": {},
     "output_type": "execute_result"
    }
   ],
   "source": [
    "nlp.pipeline"
   ]
  },
  {
   "cell_type": "markdown",
   "metadata": {},
   "source": [
    "# Sentence Recogntion"
   ]
  },
  {
   "cell_type": "code",
   "execution_count": 20,
   "metadata": {},
   "outputs": [
    {
     "name": "stdout",
     "output_type": "stream",
     "text": [
      "There is an art, it says, or rather, a knack to flying.\n",
      "The knack lies in learning how to throw yourself at the ground and miss.\n",
      "In the beginning the Universe was created.\n",
      "This has made a lot of people very angry and been widely regarded as a bad move.\n"
     ]
    }
   ],
   "source": [
    "# Let's look at the sentences\n",
    "sents = []\n",
    "# the \"sents\" property returns spans\n",
    "# spans have indices into the original string\n",
    "# where each index value represents a token\n",
    "for span in parsedData.sents:\n",
    "    # go from the start to the end of each span, returning each token in the sentence\n",
    "    # combine each token using join()\n",
    "    sent = ''.join(parsedData[i].string for i in range(span.start, span.end)).strip()\n",
    "    sents.append(sent)\n",
    "\n",
    "for sentence in sents:\n",
    "    print(sentence)"
   ]
  }
 ],
 "metadata": {
  "kernelspec": {
   "display_name": "Python 3",
   "language": "python",
   "name": "python3"
  },
  "language_info": {
   "codemirror_mode": {
    "name": "ipython",
    "version": 3
   },
   "file_extension": ".py",
   "mimetype": "text/x-python",
   "name": "python",
   "nbconvert_exporter": "python",
   "pygments_lexer": "ipython3",
   "version": "3.5.5"
  }
 },
 "nbformat": 4,
 "nbformat_minor": 2
}
